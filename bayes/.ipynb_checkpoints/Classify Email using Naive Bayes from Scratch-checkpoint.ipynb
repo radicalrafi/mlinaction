{
 "cells": [
  {
   "cell_type": "markdown",
   "metadata": {},
   "source": [
    "## Email Classification using Naive Bayes\n",
    "\n",
    "We wrote a naive bayes classifyer from scratch and played around with it ,now we are going to test it against a set\n",
    "of email to detect them as spam or not spam .\n",
    "\n",
    "**The Process**:\n",
    "Our Process is fairly simple:\n",
    "1. Collect\n",
    "2. Clean & Parse : Parse the emails as token vectors\n",
    "3. Analyse: Take a look at the data to make sure it's parsed correctly\n",
    "4. Train: Train our classifier by calling nb_train()\n",
    "5. Test: Test our classifier using nb_classify()\n",
    "6. Deploy"
   ]
  },
  {
   "cell_type": "code",
   "execution_count": 1,
   "metadata": {
    "collapsed": true
   },
   "outputs": [],
   "source": [
    "email_text = open('email/ham/6.txt').read()"
   ]
  },
  {
   "cell_type": "markdown",
   "metadata": {},
   "source": [
    "In order to process this email let's tokenize the documents using RegEx "
   ]
  },
  {
   "cell_type": "code",
   "execution_count": 8,
   "metadata": {
    "collapsed": false
   },
   "outputs": [],
   "source": [
    "import re\n",
    "#we split up on anything that isn't a word or a number\n",
    "regEx = re.compile('\\\\W*')\n",
    "listOfTokens=regEx.split(email_text)"
   ]
  },
  {
   "cell_type": "markdown",
   "metadata": {},
   "source": [
    "Let's see our tokenized email now"
   ]
  },
  {
   "cell_type": "code",
   "execution_count": 9,
   "metadata": {
    "collapsed": false
   },
   "outputs": [
    {
     "name": "stdout",
     "output_type": "stream",
     "text": [
      "['Hello', 'Since', 'you', 'are', 'an', 'owner', 'of', 'at', 'least', 'one', 'Google', 'Groups', 'group', 'that', 'uses', 'the', 'customized', 'welcome', 'message', 'pages', 'or', 'files', 'we', 'are', 'writing', 'to', 'inform', 'you', 'that', 'we', 'will', 'no', 'longer', 'be', 'supporting', 'these', 'features', 'starting', 'February', '2011', 'We', 'made', 'this', 'decision', 'so', 'that', 'we', 'can', 'focus', 'on', 'improving', 'the', 'core', 'functionalities', 'of', 'Google', 'Groups', 'mailing', 'lists', 'and', 'forum', 'discussions', 'Instead', 'of', 'these', 'features', 'we', 'encourage', 'you', 'to', 'use', 'products', 'that', 'are', 'designed', 'specifically', 'for', 'file', 'storage', 'and', 'page', 'creation', 'such', 'as', 'Google', 'Docs', 'and', 'Google', 'Sites', 'For', 'example', 'you', 'can', 'easily', 'create', 'your', 'pages', 'on', 'Google', 'Sites', 'and', 'share', 'the', 'site', 'http', 'www', 'google', 'com', 'support', 'sites', 'bin', 'answer', 'py', 'hl', 'en', 'answer', '174623', 'with', 'the', 'members', 'of', 'your', 'group', 'You', 'can', 'also', 'store', 'your', 'files', 'on', 'the', 'site', 'by', 'attaching', 'files', 'to', 'pages', 'http', 'www', 'google', 'com', 'support', 'sites', 'bin', 'answer', 'py', 'hl', 'en', 'answer', '90563', 'on', 'the', 'site', 'If', 'you', 're', 'just', 'looking', 'for', 'a', 'place', 'to', 'upload', 'your', 'files', 'so', 'that', 'your', 'group', 'members', 'can', 'download', 'them', 'we', 'suggest', 'you', 'try', 'Google', 'Docs', 'You', 'can', 'upload', 'files', 'http', 'docs', 'google', 'com', 'support', 'bin', 'answer', 'py', 'hl', 'en', 'answer', '50092', 'and', 'share', 'access', 'with', 'either', 'a', 'group', 'http', 'docs', 'google', 'com', 'support', 'bin', 'answer', 'py', 'hl', 'en', 'answer', '66343', 'or', 'an', 'individual', 'http', 'docs', 'google', 'com', 'support', 'bin', 'answer', 'py', 'hl', 'en', 'answer', '86152', 'assigning', 'either', 'edit', 'or', 'download', 'only', 'access', 'to', 'the', 'files', 'you', 'have', 'received', 'this', 'mandatory', 'email', 'service', 'announcement', 'to', 'update', 'you', 'about', 'important', 'changes', 'to', 'Google', 'Groups', '']\n"
     ]
    }
   ],
   "source": [
    "print listOfTokens"
   ]
  },
  {
   "cell_type": "code",
   "execution_count": 13,
   "metadata": {
    "collapsed": true
   },
   "outputs": [],
   "source": [
    "#we import our bayesian classifier\n",
    "import bayes\n",
    "import random\n",
    "import numpy as np"
   ]
  },
  {
   "cell_type": "code",
   "execution_count": 12,
   "metadata": {
    "collapsed": true
   },
   "outputs": [],
   "source": [
    "def parse_text(bigStr):\n",
    "    listOfTokens = re.split(r'\\W*',bigStr)\n",
    "    return [token.lower() for token in listOfTokens if len(token) > 0]"
   ]
  },
  {
   "cell_type": "code",
   "execution_count": 19,
   "metadata": {
    "collapsed": true
   },
   "outputs": [],
   "source": [
    "def spam_test():\n",
    "    document_list=[]\n",
    "    class_list=[]\n",
    "    full_text=[]\n",
    "    #here we load our dataset composed of some email samples\n",
    "    for i in range(1,26):\n",
    "        spamList = parse_text(open('email/spam/%d.txt' % i).read())\n",
    "        document_list.append(spamList)\n",
    "        full_text.extend(spamList)\n",
    "        class_list.append(1)\n",
    "        cleanList = parse_text(open('email/ham/%d.txt' % i).read())\n",
    "        document_list.append(cleanList)\n",
    "        full_text.extend(cleanList)\n",
    "        class_list.append(0)\n",
    "    vocab_list = bayes.create_vocab_list(document_list)\n",
    "    training_set = range(50)\n",
    "    test_set = []\n",
    "    #this part here is where we randomly pick our training set and test set\n",
    "    for i in range(10):\n",
    "        randIndex = int(random.uniform(0,len(training_set)))\n",
    "        test_set.append(training_set[randIndex]) #we append random samples from the training set to the test set\n",
    "        del(training_set[randIndex]) #we clear the appended samples from the training set\n",
    "    #we create our training tools\n",
    "    trainMat = []\n",
    "    trainClasses = []\n",
    "    for sample in training_set:\n",
    "        trainMat.append(bayes.words2vec(vocab_list,document_list[sample]))\n",
    "        trainClasses.append(class_list[sample])\n",
    "    p0V,p1V,pSpam = bayes.train_bayes_classifier(trainMat,trainClasses)\n",
    "    error = 0\n",
    "    for sample in test_set:\n",
    "        wordVector = bayes.words2vec(vocab_list,document_list[sample])\n",
    "        if bayes.bayes_classify(np.array(wordVector),p0V,p1V,pSpam) != class_list[sample]:\n",
    "            error += 1\n",
    "    print \"The error rate of this classifier is \", float(error)/len(test_set)\n",
    "                \n",
    "        "
   ]
  },
  {
   "cell_type": "code",
   "execution_count": 21,
   "metadata": {
    "collapsed": false
   },
   "outputs": [
    {
     "name": "stdout",
     "output_type": "stream",
     "text": [
      "The error rate of this classifier is  0.3\n"
     ]
    }
   ],
   "source": [
    "spam_test()"
   ]
  },
  {
   "cell_type": "markdown",
   "metadata": {},
   "source": [
    "The average error rate is between 3% and 6% in fact the error is caused by a Clean email classified as Spam it's better than a Spam classified as Clean \n",
    "That was it for Naive Bayes :)"
   ]
  },
  {
   "cell_type": "code",
   "execution_count": null,
   "metadata": {
    "collapsed": true
   },
   "outputs": [],
   "source": []
  }
 ],
 "metadata": {
  "anaconda-cloud": {},
  "kernelspec": {
   "display_name": "Python [conda root]",
   "language": "python",
   "name": "conda-root-py"
  },
  "language_info": {
   "codemirror_mode": {
    "name": "ipython",
    "version": 2
   },
   "file_extension": ".py",
   "mimetype": "text/x-python",
   "name": "python",
   "nbconvert_exporter": "python",
   "pygments_lexer": "ipython2",
   "version": "2.7.12"
  }
 },
 "nbformat": 4,
 "nbformat_minor": 1
}
